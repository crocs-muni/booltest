{
 "cells": [
  {
   "cell_type": "code",
   "execution_count": 1,
   "metadata": {},
   "outputs": [],
   "source": [
    "import json\n",
    "import collections\n",
    "import itertools\n",
    "import copy\n",
    "import pandas as pd\n",
    "import seaborn as sns\n",
    "from matplotlib import pyplot\n",
    "import matplotlib as mpl\n",
    "import matplotlib.pyplot as plt\n",
    "import matplotlib.ticker as ticker\n",
    "import numpy as np\n",
    "import matplotlib\n",
    "from scipy import stats\n",
    "from scipy.misc import derivative"
   ]
  },
  {
   "cell_type": "code",
   "execution_count": 26,
   "metadata": {},
   "outputs": [],
   "source": [
    "def unique_justseen(iterable, key=None):\n",
    "    \"\"\"List unique elements, preserving order. Remember only the element just seen.\"\"\"\n",
    "    # unique_justseen('AAAABBBCCDAABBB') --> A B C D A B\n",
    "    # unique_justseen('ABBCcAD', str.lower) --> A B C A D\n",
    "    return list(map(next, map(lambda x: x[1], itertools.groupby(iterable, key))))\n",
    "\n",
    "\n",
    "def get_bins(iterable, nbins=1, key=lambda x: x, ceil_bin=False, full=False):\n",
    "    vals = [key(x) for x in iterable]\n",
    "    min_v = min(vals)\n",
    "    max_v = max(vals)\n",
    "    bin_size = ((1 + max_v - min_v) / float(nbins))\n",
    "    bin_size = math.ceil(bin_size) if ceil_bin else bin_size\n",
    "    bins = [[] for _ in range(nbins)]\n",
    "    for c in iterable:\n",
    "        cv = key(c)\n",
    "        cbin = int((cv - min_v) / bin_size)\n",
    "        bins[cbin].append(c)\n",
    "    return bins if not full else (bins, bin_size, min_v, max_v, len(vals))\n",
    "\n",
    "def get_distrib_fbins(iterable, bin_tup, non_zero=True):  # bins = bins, size, minv, maxv\n",
    "    bins, size, minv, maxv, ln = bin_tup  # (idx+0.5)\n",
    "    return [x for x in [(minv + (idx)*size, len(bins[idx])/float(ln)) for idx in range(len(bins))] if not non_zero or x[1] > 0]    \n",
    "\n",
    "def get_distrib(iterable, nbins=100, key=lambda x: x, non_zero=True):\n",
    "    inp = list(iterable)\n",
    "    return get_distrib_fbins(iterable, get_bins(inp, nbins=nbins, key=key, full=True), non_zero=non_zero)\n",
    "\n",
    "def get_bin_val(idx, bin_tup):\n",
    "    return len(bin_tup[0][idx])/float(bin_tup[4])\n",
    "\n",
    "def get_bin_data(x, bin_tup):\n",
    "    idx = binize(x, bin_tup)\n",
    "    if idx is None:\n",
    "        return 0, None\n",
    "    return get_bin_val(idx, bin_tup), idx\n",
    "\n",
    "def binize(x, bin_tup):  # returns bin idx where the x lies, None if out of region\n",
    "    bins, size, minv, maxv, ln = bin_tup\n",
    "    if x < minv or x > maxv+size:\n",
    "        return None\n",
    "    return int((x - minv) // size)\n",
    "\n",
    "def binned_pmf(x, bin_tup):\n",
    "    return get_bin_data(x, bin_tup)[0]\n",
    "\n",
    "def integrate_pmf(x, bin_tup):  # idea: sum all samples below + scale current bin\n",
    "    pass\n",
    "\n",
    "def get_bin_start(idx, bin_tup):\n",
    "    return bin_tup[2] + idx * bin_tup[1]\n",
    "\n",
    "def build_integrator(bin_tup, sums=None):\n",
    "    sums = bin_sums(bin_tup) if sums is None else sums\n",
    "    def cf(x):\n",
    "        idx = binize(x, bin_tup)\n",
    "        if idx is None: return 0\n",
    "        subsum = 0 if idx <= 0 else sums[idx-1]\n",
    "        curp = len(bin_tup[0][idx])/float(bin_tup[4])\n",
    "        binstart = bin_tup[2] + idx * bin_tup[1]\n",
    "        return subsum + curp*((x - binstart)/float(binsize))\n",
    "    return cf\n",
    "\n",
    "def bin_sums(bin_tup):\n",
    "    binsums = []\n",
    "    for ix in range(len(bin_tup[0])):\n",
    "        cbin = len(bin_tup[0][ix])/float(bin_tup[4])\n",
    "        cbin = (cbin + binsums[ix-1]) if ix > 0 else cbin\n",
    "        binsums.append(cbin)\n",
    "    return np.array(binsums) \n",
    "    \n",
    "def is_crossed(pt, bound, direction):\n",
    "    return (bound >= pt) if direction > 0 else (bound <= pt)\n",
    "    \n",
    "def move_bound(bnd, dx, direction):\n",
    "    return bnd + dx if direction > 0 else bnd - dx\n",
    "    \n",
    "def all_diffs(vals):\n",
    "    diffs, ln = [], len(vals)\n",
    "    for i in range(ln):\n",
    "        for j in range(i, ln):\n",
    "            diffs.append(vals[i] - vals[j])\n",
    "    return diffs\n",
    "    \n",
    "def pvalue_comp(fnc, extremes, dx, bin_tup, by_bins=True):\n",
    "    \"\"\"Extremes = [(val, direction +1\\-1)] \"\"\"\n",
    "    nints = len(extremes)\n",
    "    areas = [0] * nints\n",
    "    nbounds = [x[0] for x in extremes]\n",
    "    nbins = [binize(x[0], bin_tup) for x in extremes]\n",
    "    bmin = min(nbounds)\n",
    "    bmax = max(nbounds)\n",
    "    cp = 0\n",
    "    iterc = 0\n",
    "    results = []\n",
    "    print('OK: ', nints, nbins)\n",
    "    \n",
    "    while cp <= 1.0:  # integration step\n",
    "        iterc += 1\n",
    "        if iterc > 10000:\n",
    "            raise ValueError('exc')  # Hard-termination to avoid infinite cycle.\n",
    "        \n",
    "        # Integration by increasing pvalue and tabulating.\n",
    "        # Each area grows at the same pace. pvalue is a sum of areas.\n",
    "        # Termination - bounds are crossing / touching.\n",
    "        \n",
    "        # Integrate each area with one step but in such a way the area is the same. \n",
    "        max_area = max(areas)\n",
    "        min_area = min(areas)\n",
    "        sum_area = sum(areas)\n",
    "        err = max([abs(x) for x in all_diffs(areas)])\n",
    "        areas_str = ['%.7f' % x for x in areas]\n",
    "        #print('Main iter: %s, cp: %.7f, mina: %.7f, maxa: %.7f, suma: %.7f, err: %.7f, a: [%s], n: %s' \n",
    "        #      % (iterc, cp, min_area, max_area, sum_area, err, ', '.join(areas_str), nbins))\n",
    "        \n",
    "        subit = 0\n",
    "        while any([x <= min_area for x in areas]):\n",
    "            subit += 1\n",
    "            #print('.. subit: %s' % subit)\n",
    "            \n",
    "            for ix in range(nints):\n",
    "                if areas[ix] > min_area :\n",
    "                    continue\n",
    "                if by_bins:\n",
    "                    areas[ix] += get_bin_val(nbins[ix], bin_tup)\n",
    "                    nbounds[ix] = get_bin_start(nbins[ix], bin_tup)\n",
    "                    nbins[ix] = move_bound(nbins[ix], 1, extremes[ix][1])\n",
    "                else:\n",
    "                    areas[ix] += fnc(nbounds[ix])\n",
    "                    nbounds[ix] = move_bound(nbounds[ix], dx, extremes[ix][1])        \n",
    "        cp = sum(areas)\n",
    "        \n",
    "        crit_int = [None]*nints\n",
    "        for i in range(nints):\n",
    "            crit_int[i] = (extremes[i][0], nbounds[i]) if extremes[i][1] > 0 else (nbounds[i], extremes[i][0])\n",
    "            \n",
    "        results.append((cp, crit_int, copy.deepcopy(areas), err))\n",
    "        \n",
    "    #print('Main iter: %s, cp: %s, mina: %s, maxa: %s, suma: %s, a: %s' \n",
    "    #          % (iterc, cp, min(areas), max(areas), sum(areas), areas))\n",
    "    #print('Total: %s' % (sum([get_bin_val(ix, bin_tup) for ix in range(len(bin_tup[0]))])))\n",
    "    #print(json.dumps(results, indent=2))\n",
    "    return results\n",
    "\n",
    "\n",
    "def tabulate_pvals(val, nbins=200, abs_val=False, target_pvals=[0.0,0.0001,0.0005,0.001,0.005,0.01]):\n",
    "    inp_iter = val['zscores']\n",
    "    if abs_val:\n",
    "        inp_iter = [abs(x) for x in inp_iter]\n",
    "    \n",
    "    bin_tup = get_bins(inp_iter, nbins=nbins, full=True)\n",
    "    bb = get_distrib_fbins(inp_iter, bin_tup)\n",
    "    \n",
    "    bin_size = bin_tup[1]\n",
    "    minv, maxv = bin_tup[2], bin_tup[3] \n",
    "    bins = np.array([x[0] for x in bb])\n",
    "    \n",
    "    # Tabulate pvalues\n",
    "    # build_integrator(bin_tup)\n",
    "    extremes = [\n",
    "        [minv, 1],\n",
    "        [0, -1],\n",
    "        [0, +1],\n",
    "        [maxv, -1]\n",
    "    ] if not abs_val else [\n",
    "        [minv, 1],\n",
    "        [maxv, -1]\n",
    "    ]\n",
    "    \n",
    "    pvals = pvalue_comp(lambda x: binned_pmf(x, bin_tup), extremes, \n",
    "                        dx=1./(nbins/10.), bin_tup=bin_tup, by_bins=True)\n",
    "\n",
    "    res_pdata = []\n",
    "    for target in target_pvals:\n",
    "        chosen = 0\n",
    "        for i in range(len(pvals)):\n",
    "            chosen = i\n",
    "            if pvals[i][0] >= target:\n",
    "                chosen = i - 1 if i > 0 else 0\n",
    "                break\n",
    "                \n",
    "        cdata = pvals[chosen]\n",
    "        res_pdata.append(collections.OrderedDict([\n",
    "            ('pval_target', target),\n",
    "            ('pval', cdata[0]),\n",
    "            ('crit', cdata[1]),\n",
    "            ('areas', cdata[2]),\n",
    "            ('err', cdata[3]),\n",
    "        ]))\n",
    "\n",
    "    return collections.OrderedDict([\n",
    "        ('method', val['method']), \n",
    "        ('block', val['block']),\n",
    "        ('deg', val['deg']),\n",
    "        ('comb_deg', val['comb_deg']),\n",
    "        ('data_size', val['data_size']),\n",
    "        ('nsamples', len(inp_iter)),\n",
    "        ('nbins', nbins),\n",
    "        ('abs_val', abs_val),\n",
    "        ('binsize', bin_size),\n",
    "        ('minv', minv),\n",
    "        ('maxv', maxv),\n",
    "        ('extremes', extremes),\n",
    "        ('pvals', res_pdata)\n",
    "    ])\n"
   ]
  },
  {
   "cell_type": "code",
   "execution_count": 3,
   "metadata": {},
   "outputs": [
    {
     "name": "stdout",
     "output_type": "stream",
     "text": [
      "{\"method\": \"in0-kctr-ri1\", \"block\": 128, \"deg\": 1, \"comb_deg\": 2, \"data_size\": 10, \"zscores\": [-3.77991]}\n"
     ]
    }
   ],
   "source": [
    "js = json.load(open('ref_1554219251.json'))\n",
    "csv = open('ref_1554219251.csv').read()\n",
    "\n",
    "csv_data = []\n",
    "for rec in [x.strip() for x in csv.split(\"\\n\")]:\n",
    "    p = rec.split(';')\n",
    "    if len(p) < 6:\n",
    "        continue\n",
    "    cur = collections.OrderedDict([\n",
    "        ('method', p[0]), \n",
    "        ('block', int(p[1])),\n",
    "        ('deg', int(p[2])),\n",
    "        ('comb_deg', int(p[3])),\n",
    "        ('data_size', int(p[4])),\n",
    "        ('zscores', [float(x.replace(',','.')) for x in p[6:]])\n",
    "    ])\n",
    "    csv_data.append(cur)\n",
    "print(json.dumps(csv_data[0]))  "
   ]
  },
  {
   "cell_type": "code",
   "execution_count": 4,
   "metadata": {},
   "outputs": [],
   "source": [
    "data = csv_data\n",
    "data_filt = [x for x in data if x and len(x['zscores']) > 1000]\n",
    "data_filt.sort(key=lambda x: (x['method'], x['block'], x['deg'], x['comb_deg'], x['data_size']))\n",
    "np.random.seed(87655677)"
   ]
  },
  {
   "cell_type": "code",
   "execution_count": null,
   "metadata": {},
   "outputs": [],
   "source": [
    "pval_db = []\n",
    "for dix, val in enumerate(data_filt):\n",
    "    res = tabulate_pvals(val, abs_val=True)\n",
    "    pval_db.append(res)\n",
    "    print('Dump %s' % dix)\n",
    "json.dump(pval_db, open('pval_db.json', 'w+'), indent=2)"
   ]
  },
  {
   "cell_type": "code",
   "execution_count": 33,
   "metadata": {},
   "outputs": [
    {
     "name": "stdout",
     "output_type": "stream",
     "text": [
      "inctr-krnd-ri0[128:1:1:10]: 9886 \n",
      "<class 'scipy.stats._distn_infrastructure.rv_discrete'>\n",
      "[0. 0. 0.]\n",
      "[0.00010115 0.00010115 0.00010115]\n",
      "OK:  2 [0, 153]\n",
      "inctr-krnd-ri0[128:1:1:10]: 9886 [5.04940532 4.38307768 3.95318888 3.54479452 3.32985012 2.77099468\n",
      " 0.760756   5.04940532 1.760756   1.91121708 2.36260032 3.32985012]\n"
     ]
    },
    {
     "data": {
      "image/png": "[encoded data removed]",
      "text/plain": [
       "<Figure size 432x288 with 1 Axes>"
      ]
     },
     "metadata": {},
     "output_type": "display_data"
    },
    {
     "name": "stdout",
     "output_type": "stream",
     "text": [
      "Plotting area under:  (0.026906736799514462, [(1.760756, 2.12616148), (3.88870556, 5.059644)], [0.013149908962168723, 0.01375682783734574], 0.00040461258345134664)\n"
     ]
    },
    {
     "data": {
      "image/png": "[encoded data removed]",
      "text/plain": [
       "<Figure size 432x288 with 1 Axes>"
      ]
     },
     "metadata": {},
     "output_type": "display_data"
    },
    {
     "data": {
      "image/png": "[encoded data removed]",
      "text/plain": [
       "<Figure size 432x288 with 1 Axes>"
      ]
     },
     "metadata": {},
     "output_type": "display_data"
    },
    {
     "data": {
      "image/png": "[encoded data removed]",
      "text/plain": [
       "<Figure size 432x288 with 1 Axes>"
      ]
     },
     "metadata": {},
     "output_type": "display_data"
    },
    {
     "data": {
      "image/png": "[encoded data removed]",
      "text/plain": [
       "<Figure size 432x288 with 1 Axes>"
      ]
     },
     "metadata": {},
     "output_type": "display_data"
    }
   ],
   "source": [
    "nbins = 200\n",
    "abs_val = True\n",
    "    \n",
    "for dix, val in enumerate(data_filt):\n",
    "    inp_iter = (val['zscores'])\n",
    "    if abs_val:\n",
    "        inp_iter = [abs(x) for x in inp_iter]\n",
    "    \n",
    "    print('%s[%s:%s:%s:%s]: %s %s' \n",
    "          % (val['method'], val['block'], val['deg'], val['comb_deg'], \n",
    "             val['data_size'], len(val['zscores']),\n",
    "             '',#dst.ppf([1-0.0001, 1-0.001, 1-0.01, 1-0.05, 1-0.10, 1-0.5, 0, 1, 0.0001, 0.001, 0.1, 0.9])\n",
    "             #dst.stats(moments='mvsk')\n",
    "            ))\n",
    "    \n",
    "    bin_tup = get_bins(inp_iter, nbins=nbins, full=True)\n",
    "    bb = get_distrib_fbins(inp_iter, bin_tup)\n",
    "    \n",
    "    bin_size = bin_tup[1]\n",
    "    minv, maxv = bin_tup[2], bin_tup[3] \n",
    "    bins = np.array([x[0] for x in bb])\n",
    "    dst = stats.rv_discrete(values=([x[0] for x in bb], [x[1] for x in bb]))\n",
    "    print(stats.rv_discrete)\n",
    "    \n",
    "    x=np.array([bins[0], bins[1], bins[6]])\n",
    "    print(dst.pmf(x))\n",
    "    print(dst._pmf(x))\n",
    "    \n",
    "    # Tabulate pvalues\n",
    "    build_integrator(bin_tup)\n",
    "    extremes = [\n",
    "        [minv, 1],\n",
    "        [0, -1],\n",
    "        [0, +1],\n",
    "        [maxv, -1]\n",
    "    ] if not abs_val else [\n",
    "        [minv, 1],\n",
    "        [maxv, -1]\n",
    "    ]\n",
    "    \n",
    "    pvals = pvalue_comp(lambda x: binned_pmf(x, bin_tup), extremes, \n",
    "                        dx=1./(nbins/10.), bin_tup=bin_tup, by_bins=True)\n",
    "    \n",
    "    n_sample = 100\n",
    "    rvs = dst.rvs(size=n_sample)\n",
    "    f, l = np.histogram(rvs, bins=bins)\n",
    "    f = np.append(f, [0])\n",
    "    probs = np.array([x[1] for x in bb])\n",
    "    #print(bins, len(bins))\n",
    "    #print(probs, len(probs))\n",
    "    #print(f, len(f))\n",
    "    #sfreq = np.vstack([np.array([x[0] for x in bb]), f, probs*n_sample]).T\n",
    "    #print(sfreq)\n",
    "    \n",
    "    print('%s[%s:%s:%s:%s]: %s %s' \n",
    "          % (val['method'], val['block'], val['deg'], val['comb_deg'], \n",
    "             val['data_size'], len(val['zscores']),\n",
    "             dst.ppf([1-0.0001, 1-0.001, 1-0.01, 1-0.05, 1-0.10, 1-0.5, 0, 1, 0.0001, 0.001, 0.1, 0.9])\n",
    "             #dst.stats(moments='mvsk')\n",
    "            ))\n",
    "    \n",
    "    x = np.linspace(min(bins),max(bins),1000)\n",
    "    plt.plot(x, dst.cdf(x))\n",
    "    plt.show()\n",
    "    \n",
    "    cdf_dev = derivative(dst.cdf, x, dx=0.5)\n",
    "    plt.plot(x,cdf_dev)\n",
    "    \n",
    "    sec_x = pvals[40]  # 49\n",
    "    print('Plotting area under: ', sec_x)\n",
    "    for ix in range(len(sec_x[1])):\n",
    "        section = np.arange(sec_x[1][ix][0], sec_x[1][ix][1], 1/20.)\n",
    "        plt.fill_between(section, derivative(dst.cdf, section, dx=0.5))\n",
    "    plt.show()\n",
    "    \n",
    "    #for pv in pvals:\n",
    "    #    sec_x = pv\n",
    "    #    for ix in range(len(sec_x[1])):\n",
    "    #        section = np.arange(sec_x[1][ix][0], sec_x[1][ix][1], 1/20.)\n",
    "    #        plt.fill_between(section, derivative(dst.cdf, section, dx=0.5))\n",
    "    #    plt.show()\n",
    "    \n",
    "    x = np.linspace(0,100,10000)\n",
    "    plt.plot(x,dst.ppf(x))\n",
    "    plt.show()\n",
    "    \n",
    "    x = np.linspace(minv,maxv,10000)\n",
    "    plt.plot(bins, dst._pmf(bins))\n",
    "    plt.show()\n",
    "    \n",
    "    x = np.linspace(minv,maxv,10000)\n",
    "    plt.plot(x, [binned_pmf(y, bin_tup) for y in x])\n",
    "    for ix in range(len(sec_x[1])):\n",
    "        section = np.linspace(sec_x[1][ix][0], sec_x[1][ix][1], 10000) #np.arange(sec_x[1][ix][0], sec_x[1][ix][1], 1/20.)\n",
    "        plt.fill_between(section, [binned_pmf(y, bin_tup)+0.0005 for y in section])\n",
    "    plt.show()\n",
    "    \n",
    "    # Idea: pvalue function = pms of the distribution. \n",
    "    # If test returns z-score with p=0 then we reject the hypothesis as we didnt get such zscore\n",
    "    # If test returns with p=0.3 we dont reject as we have our alpha set somehow...\n",
    "    # Problem: number of bins. If too many, we have small probabilities -> some alphas not reachable.\n",
    "    #if dix > 3:\n",
    "    break\n",
    "    "
   ]
  },
  {
   "cell_type": "code",
   "execution_count": null,
   "metadata": {},
   "outputs": [],
   "source": [
    "np.arange(7)\n",
    "#np.zeros(np.shape(0.5),'d')\n",
    "#print(dst.ppf([1-0.01, 1-0.05, 1-0.10, 0.5, 0.6]))"
   ]
  },
  {
   "cell_type": "code",
   "execution_count": null,
   "metadata": {},
   "outputs": [],
   "source": [
    "# Compute pvalues\n",
    "def compute_pvals(dset):\n",
    "    zs = sorted()\n",
    "    pass"
   ]
  },
  {
   "cell_type": "code",
   "execution_count": null,
   "metadata": {
    "scrolled": false
   },
   "outputs": [],
   "source": [
    "a4_dims = (2*11.7, 8.27)\n",
    "fig, ax = pyplot.subplots(figsize=a4_dims)\n",
    "zs = data_filt[1]['zscores']\n",
    "\n",
    "for  i in range(1):\n",
    "    zs = [x for x in data_filt[i]['zscores']]\n",
    "    print(len(zs))\n",
    "    sns.distplot(a=zs, ax=ax, hist=True, norm_hist=False, bins='auto')"
   ]
  },
  {
   "cell_type": "markdown",
   "metadata": {},
   "source": [
    "# pvalues\n",
    " - pvalue = probability (in the null hypothesis distribution) to be observed as a value equal to or more extreme than the value observed\n",
    " \n",
    "## computation \n",
    " - Derive CDF -> find 0 regions = extremes\n",
    " - Integrate from 0 regions towards region of increasing integral value. \n",
    " - Once sum of all integrations is alpha, stop. Integrated area is a critical region\n",
    " - Computation for x: integrate until the first integral boundary hits x. pvalue = sum of integrals\n",
    " - Tabulation: for each desired pvalue compute boundaries (4 values) where critical region starts. \n",
    " - pvalue(x): need to do the integration OR function table (\\forall zscores: P(zscore) > 0).\n",
    " - In our case 4 extremes, integrate: \n",
    "   - -\\inf towards 0\n",
    "   - +\\inf towards 0\n",
    "   - 0 towards +\\inf\n",
    "   - 0 towards -\\inf\n",
    "   - 10000 samples, pvalue = 0 -> 1/10000. \n",
    " - absolutize -> we have a new distribution -> 2x more datapoints, 2 tails.  \n",
    "  "
   ]
  },
  {
   "cell_type": "code",
   "execution_count": 6,
   "metadata": {},
   "outputs": [
    {
     "data": {
      "text/plain": [
       "array([-1.0000000e+00, -9.5000000e-01, -9.0000000e-01, -8.5000000e-01,\n",
       "       -8.0000000e-01, -7.5000000e-01, -7.0000000e-01, -6.5000000e-01,\n",
       "       -6.0000000e-01, -5.5000000e-01, -5.0000000e-01, -4.5000000e-01,\n",
       "       -4.0000000e-01, -3.5000000e-01, -3.0000000e-01, -2.5000000e-01,\n",
       "       -2.0000000e-01, -1.5000000e-01, -1.0000000e-01, -5.0000000e-02,\n",
       "        8.8817842e-16,  5.0000000e-02,  1.0000000e-01,  1.5000000e-01,\n",
       "        2.0000000e-01,  2.5000000e-01,  3.0000000e-01,  3.5000000e-01,\n",
       "        4.0000000e-01,  4.5000000e-01,  5.0000000e-01,  5.5000000e-01,\n",
       "        6.0000000e-01,  6.5000000e-01,  7.0000000e-01,  7.5000000e-01,\n",
       "        8.0000000e-01,  8.5000000e-01,  9.0000000e-01,  9.5000000e-01])"
      ]
     },
     "execution_count": 6,
     "metadata": {},
     "output_type": "execute_result"
    }
   ],
   "source": [
    "np.arange(-1, 1, 1/20.)"
   ]
  },
  {
   "cell_type": "code",
   "execution_count": 47,
   "metadata": {},
   "outputs": [
    {
     "name": "stdout",
     "output_type": "stream",
     "text": [
      "[0, 0, 0, 0, 0, 0, 0, 1]\n",
      "[0, 0, 0, 0, 0, 0, 1, 0]\n",
      "[0, 0, 0, 0, 0, 0, 1, 1]\n",
      "[0, 0, 0, 0, 0, 1, 0, 0]\n",
      "[0, 0, 0, 0, 0, 1, 0, 1]\n",
      "[0, 0, 0, 0, 0, 1, 1, 0]\n",
      "[0, 0, 0, 0, 0, 1, 1, 1]\n",
      "[0, 0, 0, 0, 1, 0, 0, 0]\n",
      "[0, 0, 0, 0, 1, 0, 0, 1]\n",
      "[0, 0, 0, 0, 1, 0, 1, 0]\n",
      "[0, 0, 0, 0, 1, 0, 1, 1]\n",
      "[0, 0, 0, 0, 1, 1, 0, 0]\n",
      "[0, 0, 0, 0, 1, 1, 0, 1]\n",
      "[0, 0, 0, 0, 1, 1, 1, 0]\n",
      "[0, 0, 0, 0, 1, 1, 1, 1]\n",
      "[0, 0, 0, 1, 0, 0, 0, 0]\n",
      "[0, 0, 0, 1, 0, 0, 0, 1]\n",
      "[0, 0, 0, 1, 0, 0, 1, 0]\n",
      "[0, 0, 0, 1, 0, 0, 1, 1]\n",
      "[0, 0, 0, 1, 0, 1, 0, 0]\n",
      "--------------------------------------------------------------------------------\n",
      "[0, 0, 0, 1, 0, 0, 1, 1]\n",
      "[0, 0, 0, 1, 0, 0, 1, 0]\n",
      "[0, 0, 0, 1, 0, 0, 0, 1]\n",
      "[0, 0, 0, 1, 0, 0, 0, 0]\n",
      "[0, 0, 0, 0, 1, 1, 1, 1]\n",
      "[0, 0, 0, 0, 1, 1, 1, 0]\n",
      "[0, 0, 0, 0, 1, 1, 0, 1]\n",
      "[0, 0, 0, 0, 1, 1, 0, 0]\n",
      "[0, 0, 0, 0, 1, 0, 1, 1]\n",
      "[0, 0, 0, 0, 1, 0, 1, 0]\n",
      "[0, 0, 0, 0, 1, 0, 0, 1]\n",
      "[0, 0, 0, 0, 1, 0, 0, 0]\n",
      "[0, 0, 0, 0, 0, 1, 1, 1]\n",
      "[0, 0, 0, 0, 0, 1, 1, 0]\n",
      "[0, 0, 0, 0, 0, 1, 0, 1]\n",
      "[0, 0, 0, 0, 0, 1, 0, 0]\n",
      "[0, 0, 0, 0, 0, 0, 1, 1]\n",
      "[0, 0, 0, 0, 0, 0, 1, 0]\n",
      "[0, 0, 0, 0, 0, 0, 0, 1]\n",
      "[0, 0, 0, 0, 0, 0, 0, 0]\n"
     ]
    }
   ],
   "source": [
    "counter = [0] * 8\n",
    "MAXV = 2\n",
    "\n",
    "def inc(counter):\n",
    "    global MAXV\n",
    "    ln = len(counter) - 1\n",
    "    while ln >= 0:\n",
    "        counter[ln] = (counter[ln] + 1) % MAXV\n",
    "        if (counter[ln] != 0):\n",
    "            return(counter)\n",
    "        ln-=1\n",
    "    raise ValueError('Overflow')\n",
    "\n",
    "    \n",
    "def dec(counter):\n",
    "    global MAXV\n",
    "    ln = len(counter) - 1\n",
    "    while ln >= 0:\n",
    "        counter[ln] = (counter[ln] - 1) % MAXV\n",
    "        if (counter[ln] != MAXV-1):\n",
    "            return counter\n",
    "        ln-=1\n",
    "    raise ValueError('Underflow')\n",
    "    \n",
    "    \n",
    "for i in range(20):\n",
    "    print(inc(counter))\n",
    "print('-'*80)\n",
    "for i in range(20):\n",
    "    print(dec(counter))"
   ]
  },
  {
   "cell_type": "code",
   "execution_count": null,
   "metadata": {},
   "outputs": [],
   "source": [
    "\n"
   ]
  },
  {
   "cell_type": "code",
   "execution_count": 34,
   "metadata": {},
   "outputs": [],
   "source": [
    "from booltest import common"
   ]
  },
  {
   "cell_type": "code",
   "execution_count": 36,
   "metadata": {},
   "outputs": [
    {
     "data": {
      "text/plain": [
       "b'c2bf37890011dfed'"
      ]
     },
     "execution_count": 36,
     "metadata": {},
     "output_type": "execute_result"
    }
   ],
   "source": [
    "common.generate_seed(2)"
   ]
  },
  {
   "cell_type": "code",
   "execution_count": null,
   "metadata": {},
   "outputs": [],
   "source": []
  }
 ],
 "metadata": {
  "kernelspec": {
   "display_name": "Python 3",
   "language": "python",
   "name": "python3"
  },
  "language_info": {
   "codemirror_mode": {
    "name": "ipython",
    "version": 3
   },
   "file_extension": ".py",
   "mimetype": "text/x-python",
   "name": "python",
   "nbconvert_exporter": "python",
   "pygments_lexer": "ipython3",
   "version": "3.6.5"
  }
 },
 "nbformat": 4,
 "nbformat_minor": 2
}
